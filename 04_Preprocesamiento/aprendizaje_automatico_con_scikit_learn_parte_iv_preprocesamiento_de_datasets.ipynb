{
  "nbformat": 4,
  "nbformat_minor": 0,
  "metadata": {
    "colab": {
      "name": "aprendizaje-automatico-con-scikit-learn-parte-iv-preprocesamiento-de-datasets.ipynb",
      "provenance": []
    },
    "kernelspec": {
      "name": "python3",
      "display_name": "Python 3"
    },
    "language_info": {
      "name": "python"
    }
  },
  "cells": [
    {
      "cell_type": "code",
      "metadata": {
        "colab": {
          "base_uri": "https://localhost:8080/"
        },
        "id": "_gec58iBuRD8",
        "outputId": "30776e91-884d-4286-b178-0ee1760f6145"
      },
      "source": [
        "pip install pandas scikit-learn"
      ],
      "execution_count": 1,
      "outputs": [
        {
          "output_type": "stream",
          "text": [
            "Requirement already satisfied: pandas in /usr/local/lib/python3.7/dist-packages (1.1.5)\n",
            "Requirement already satisfied: scikit-learn in /usr/local/lib/python3.7/dist-packages (0.22.2.post1)\n",
            "Requirement already satisfied: pytz>=2017.2 in /usr/local/lib/python3.7/dist-packages (from pandas) (2018.9)\n",
            "Requirement already satisfied: python-dateutil>=2.7.3 in /usr/local/lib/python3.7/dist-packages (from pandas) (2.8.1)\n",
            "Requirement already satisfied: numpy>=1.15.4 in /usr/local/lib/python3.7/dist-packages (from pandas) (1.19.5)\n",
            "Requirement already satisfied: joblib>=0.11 in /usr/local/lib/python3.7/dist-packages (from scikit-learn) (1.0.1)\n",
            "Requirement already satisfied: scipy>=0.17.0 in /usr/local/lib/python3.7/dist-packages (from scikit-learn) (1.4.1)\n",
            "Requirement already satisfied: six>=1.5 in /usr/local/lib/python3.7/dist-packages (from python-dateutil>=2.7.3->pandas) (1.15.0)\n"
          ],
          "name": "stdout"
        }
      ]
    },
    {
      "cell_type": "markdown",
      "metadata": {
        "id": "HcxduGYzufAk"
      },
      "source": [
        "Cargamos la librería necesaria"
      ]
    },
    {
      "cell_type": "code",
      "metadata": {
        "id": "Xg2CWEgMuhoI"
      },
      "source": [
        "import pandas as pd\n",
        "import sklearn as skl"
      ],
      "execution_count": 2,
      "outputs": []
    },
    {
      "cell_type": "markdown",
      "metadata": {
        "id": "-M2oWHYku1Gf"
      },
      "source": [
        "Cargamos el fichero del dataset"
      ]
    },
    {
      "cell_type": "code",
      "metadata": {
        "id": "N8H2Hrtsu5qp",
        "colab": {
          "base_uri": "https://localhost:8080/"
        },
        "outputId": "67f484c3-9cda-42f4-f8cc-1fa4b043fb8d"
      },
      "source": [
        "url = \"https://raw.githubusercontent.com/AprendeConEjemplos/aprendizaje-automatico-con-scikit-learn/main/04_Preprocesamiento/Stars.csv\"\n",
        "dataframe = pd.read_csv(url)\n",
        "print(dataframe)"
      ],
      "execution_count": 3,
      "outputs": [
        {
          "output_type": "stream",
          "text": [
            "     Temperature              L          R    A_M  Color Spectral_Class  Type\n",
            "0           3068       0.002400     0.1700  16.12    Red              M     0\n",
            "1           3042       0.000500     0.1542  16.60    Red              M     0\n",
            "2           2600       0.000300     0.1020  18.70    Red              M     0\n",
            "3           2800       0.000200     0.1600  16.65    Red              M     0\n",
            "4           1939       0.000138     0.1030  20.06    Red              M     0\n",
            "..           ...            ...        ...    ...    ...            ...   ...\n",
            "235        38940  374830.000000  1356.0000  -9.93   Blue              O     5\n",
            "236        30839  834042.000000  1194.0000 -10.63   Blue              O     5\n",
            "237         8829  537493.000000  1423.0000 -10.73  White              A     5\n",
            "238         9235  404940.000000  1112.0000 -11.23  White              A     5\n",
            "239        37882  294903.000000  1783.0000  -7.80   Blue              O     5\n",
            "\n",
            "[240 rows x 7 columns]\n"
          ],
          "name": "stdout"
        }
      ]
    },
    {
      "cell_type": "code",
      "metadata": {
        "colab": {
          "base_uri": "https://localhost:8080/"
        },
        "id": "YvOHkBrXP_P8",
        "outputId": "bee9e1fe-1034-44b0-cc45-a92d7d4d12f8"
      },
      "source": [
        "print(dataframe.describe())"
      ],
      "execution_count": 4,
      "outputs": [
        {
          "output_type": "stream",
          "text": [
            "        Temperature              L            R         A_M        Type\n",
            "count    240.000000     240.000000   240.000000  240.000000  240.000000\n",
            "mean   10497.462500  107188.361635   237.157781    4.382396    2.500000\n",
            "std     9552.425037  179432.244940   517.155763   10.532512    1.711394\n",
            "min     1939.000000       0.000080     0.008400  -11.920000    0.000000\n",
            "25%     3344.250000       0.000865     0.102750   -6.232500    1.000000\n",
            "50%     5776.000000       0.070500     0.762500    8.313000    2.500000\n",
            "75%    15055.500000  198050.000000    42.750000   13.697500    4.000000\n",
            "max    40000.000000  849420.000000  1948.500000   20.060000    5.000000\n"
          ],
          "name": "stdout"
        }
      ]
    },
    {
      "cell_type": "code",
      "metadata": {
        "id": "gSoqxhn7NIjL"
      },
      "source": [
        "dataset = dataframe.drop(\"Type\", axis=1)\n",
        "label = dataframe[\"Type\"].copy()"
      ],
      "execution_count": 5,
      "outputs": []
    },
    {
      "cell_type": "code",
      "metadata": {
        "id": "lZ4EDj8kWp_u"
      },
      "source": [
        "dataframe_op1 = dataframe.dropna(subset=[\"Temperature\"])    # Opción 1, eliminamos las instancias con valores nulos\n",
        "dataframe_op2 = dataframe.drop(\"Temperature\", axis=1)       # Opción 2, eliminamos el atributo que contiene valores nulos\n",
        "mean_temp = dataframe[\"Temperature\"].mean()\n",
        "dataframe_op3 = dataframe[\"Temperature\"].fillna(mean_temp)  # Opción 3, asignamos el valor medio en los valores nulos"
      ],
      "execution_count": 6,
      "outputs": []
    },
    {
      "cell_type": "markdown",
      "metadata": {
        "id": "pOmK8WOFNLNe"
      },
      "source": [
        "Iniciamos el preprocesamiento de los atributos con valores de texto"
      ]
    },
    {
      "cell_type": "code",
      "metadata": {
        "colab": {
          "base_uri": "https://localhost:8080/"
        },
        "id": "TY0Gt5kQNK7M",
        "outputId": "f518ef8b-864f-40b0-a080-bf40f5355be8"
      },
      "source": [
        "color_cat = dataframe[['Color']]\n",
        "spectral_cat = dataframe[['Spectral_Class']]\n",
        "print(color_cat.head(10))\n",
        "print(spectral_cat.head(10))"
      ],
      "execution_count": 7,
      "outputs": [
        {
          "output_type": "stream",
          "text": [
            "  Color\n",
            "0   Red\n",
            "1   Red\n",
            "2   Red\n",
            "3   Red\n",
            "4   Red\n",
            "5   Red\n",
            "6   Red\n",
            "7   Red\n",
            "8   Red\n",
            "9   Red\n",
            "  Spectral_Class\n",
            "0              M\n",
            "1              M\n",
            "2              M\n",
            "3              M\n",
            "4              M\n",
            "5              M\n",
            "6              M\n",
            "7              M\n",
            "8              M\n",
            "9              M\n"
          ],
          "name": "stdout"
        }
      ]
    },
    {
      "cell_type": "markdown",
      "metadata": {
        "id": "pdVGlklPR59z"
      },
      "source": [
        "Importamos la funcionalidad de Scikit-learn"
      ]
    },
    {
      "cell_type": "code",
      "metadata": {
        "colab": {
          "base_uri": "https://localhost:8080/"
        },
        "id": "sXJctNfTR_Hx",
        "outputId": "3e8e9a79-4de4-4ac7-b72d-dc984f3c7482"
      },
      "source": [
        "from sklearn.preprocessing import OrdinalEncoder\n",
        "ordinal_encoder = OrdinalEncoder()\n",
        "color_cat_encoded = ordinal_encoder.fit_transform(color_cat)\n",
        "print(color_cat_encoded[:10])"
      ],
      "execution_count": 8,
      "outputs": [
        {
          "output_type": "stream",
          "text": [
            "[[8.]\n",
            " [8.]\n",
            " [8.]\n",
            " [8.]\n",
            " [8.]\n",
            " [8.]\n",
            " [8.]\n",
            " [8.]\n",
            " [8.]\n",
            " [8.]]\n"
          ],
          "name": "stdout"
        }
      ]
    },
    {
      "cell_type": "code",
      "metadata": {
        "colab": {
          "base_uri": "https://localhost:8080/"
        },
        "id": "fNQBRll2uQNt",
        "outputId": "6264cab4-b102-4652-ffbc-dbe3435b75a2"
      },
      "source": [
        "print(ordinal_encoder.categories_)"
      ],
      "execution_count": 9,
      "outputs": [
        {
          "output_type": "stream",
          "text": [
            "[array(['Blue', 'Blue White', 'Blue white', 'Blue-White', 'Blue-white',\n",
            "       'Orange', 'Orange-Red', 'Pale yellow orange', 'Red', 'White',\n",
            "       'White-Yellow', 'Whitish', 'Yellowish', 'Yellowish White', 'white',\n",
            "       'yellow-white', 'yellowish'], dtype=object)]\n"
          ],
          "name": "stdout"
        }
      ]
    },
    {
      "cell_type": "markdown",
      "metadata": {
        "id": "vgjbLAg4za_R"
      },
      "source": [
        "Importamos lo necesario para realizar el One Hot Encoding"
      ]
    },
    {
      "cell_type": "code",
      "metadata": {
        "colab": {
          "base_uri": "https://localhost:8080/"
        },
        "id": "vS8nBxkEzaoD",
        "outputId": "2fa7cb99-1ac8-4f5a-ed56-9c793bb944a6"
      },
      "source": [
        "from sklearn.preprocessing import OneHotEncoder\n",
        "one_hot_encoder = OneHotEncoder()\n",
        "color_cat_one_hot = one_hot_encoder.fit_transform(color_cat)\n",
        "print(color_cat_one_hot)\n",
        "print(color_cat_one_hot.toarray().shape)\n",
        "print(color_cat_one_hot.toarray())"
      ],
      "execution_count": 10,
      "outputs": [
        {
          "output_type": "stream",
          "text": [
            "  (0, 8)\t1.0\n",
            "  (1, 8)\t1.0\n",
            "  (2, 8)\t1.0\n",
            "  (3, 8)\t1.0\n",
            "  (4, 8)\t1.0\n",
            "  (5, 8)\t1.0\n",
            "  (6, 8)\t1.0\n",
            "  (7, 8)\t1.0\n",
            "  (8, 8)\t1.0\n",
            "  (9, 8)\t1.0\n",
            "  (10, 8)\t1.0\n",
            "  (11, 8)\t1.0\n",
            "  (12, 8)\t1.0\n",
            "  (13, 8)\t1.0\n",
            "  (14, 8)\t1.0\n",
            "  (15, 8)\t1.0\n",
            "  (16, 8)\t1.0\n",
            "  (17, 8)\t1.0\n",
            "  (18, 8)\t1.0\n",
            "  (19, 8)\t1.0\n",
            "  (20, 1)\t1.0\n",
            "  (21, 9)\t1.0\n",
            "  (22, 9)\t1.0\n",
            "  (23, 9)\t1.0\n",
            "  (24, 1)\t1.0\n",
            "  :\t:\n",
            "  (215, 0)\t1.0\n",
            "  (216, 4)\t1.0\n",
            "  (217, 4)\t1.0\n",
            "  (218, 4)\t1.0\n",
            "  (219, 15)\t1.0\n",
            "  (220, 0)\t1.0\n",
            "  (221, 0)\t1.0\n",
            "  (222, 0)\t1.0\n",
            "  (223, 0)\t1.0\n",
            "  (224, 0)\t1.0\n",
            "  (225, 0)\t1.0\n",
            "  (226, 0)\t1.0\n",
            "  (227, 0)\t1.0\n",
            "  (228, 0)\t1.0\n",
            "  (229, 0)\t1.0\n",
            "  (230, 4)\t1.0\n",
            "  (231, 0)\t1.0\n",
            "  (232, 0)\t1.0\n",
            "  (233, 4)\t1.0\n",
            "  (234, 4)\t1.0\n",
            "  (235, 0)\t1.0\n",
            "  (236, 0)\t1.0\n",
            "  (237, 9)\t1.0\n",
            "  (238, 9)\t1.0\n",
            "  (239, 0)\t1.0\n",
            "(240, 17)\n",
            "[[0. 0. 0. ... 0. 0. 0.]\n",
            " [0. 0. 0. ... 0. 0. 0.]\n",
            " [0. 0. 0. ... 0. 0. 0.]\n",
            " ...\n",
            " [0. 0. 0. ... 0. 0. 0.]\n",
            " [0. 0. 0. ... 0. 0. 0.]\n",
            " [1. 0. 0. ... 0. 0. 0.]]\n"
          ],
          "name": "stdout"
        }
      ]
    },
    {
      "cell_type": "markdown",
      "metadata": {
        "id": "QL-RjB9KbXd5"
      },
      "source": [
        "Ejemplos de normalización de valores de atributos\n"
      ]
    },
    {
      "cell_type": "code",
      "metadata": {
        "colab": {
          "base_uri": "https://localhost:8080/"
        },
        "id": "RC_Ak-xgbc5C",
        "outputId": "a7b920f2-ba02-4466-d2df-f28e414f340e"
      },
      "source": [
        "from sklearn.preprocessing import MinMaxScaler\n",
        "\n",
        "min_max_scaler = MinMaxScaler()\n",
        "l_values = dataframe[['L']]\n",
        "scaled_values = min_max_scaler.fit(l_values)\n",
        "print(min_max_scaler.transform(l_values)[0:10])"
      ],
      "execution_count": 11,
      "outputs": [
        {
          "output_type": "stream",
          "text": [
            "[[2.73127546e-09]\n",
            " [4.94455040e-10]\n",
            " [2.59000259e-10]\n",
            " [1.41272869e-10]\n",
            " [6.82818865e-11]\n",
            " [6.71046126e-10]\n",
            " [7.65228038e-10]\n",
            " [3.76727649e-10]\n",
            " [7.18137082e-10]\n",
            " [1.17727390e-10]]\n"
          ],
          "name": "stdout"
        }
      ]
    },
    {
      "cell_type": "markdown",
      "metadata": {
        "id": "gJ7UT_R8e_jZ"
      },
      "source": [
        "Ejemplo de estandarización"
      ]
    },
    {
      "cell_type": "code",
      "metadata": {
        "colab": {
          "base_uri": "https://localhost:8080/"
        },
        "id": "LZK9wAZsgnJ6",
        "outputId": "ce97c5c7-2efe-4c9c-b57a-f89000621ba4"
      },
      "source": [
        "from sklearn.preprocessing import StandardScaler\n",
        "\n",
        "standard_scaler = StandardScaler()\n",
        "l_values = dataframe[['L']]\n",
        "scaled_values = standard_scaler.fit(l_values)\n",
        "print(standard_scaler.transform(l_values)[0:10])"
      ],
      "execution_count": 12,
      "outputs": [
        {
          "output_type": "stream",
          "text": [
            "[[-0.59862356]\n",
            " [-0.59862357]\n",
            " [-0.59862357]\n",
            " [-0.59862357]\n",
            " [-0.59862357]\n",
            " [-0.59862357]\n",
            " [-0.59862357]\n",
            " [-0.59862357]\n",
            " [-0.59862357]\n",
            " [-0.59862357]]\n"
          ],
          "name": "stdout"
        }
      ]
    },
    {
      "cell_type": "markdown",
      "metadata": {
        "id": "rE83YJPSl9aM"
      },
      "source": [
        "Creación del pipeline completo"
      ]
    },
    {
      "cell_type": "code",
      "metadata": {
        "id": "hkLMq9UhmAMt"
      },
      "source": [
        "from sklearn.compose import ColumnTransformer\n",
        "num_attrs = [\"Temperature\", \"L\", \"R\"]\n",
        "text_attrs = [\"Color\", \"Spectral_Class\"]\n",
        "\n",
        "pipeline = ColumnTransformer([\n",
        "                              (\"numeric\", StandardScaler(), num_attrs),\n",
        "                              (\"text\", OneHotEncoder(), text_attrs)\n",
        "])\n",
        "preprocessed_dataset = pipeline.fit_transform(dataset)"
      ],
      "execution_count": 13,
      "outputs": []
    },
    {
      "cell_type": "markdown",
      "metadata": {
        "id": "QuhJOsKTriwE"
      },
      "source": [
        "Creamos los conjutos de entrenamiento y test"
      ]
    },
    {
      "cell_type": "code",
      "metadata": {
        "id": "57Ddq6cTroxF"
      },
      "source": [
        "from sklearn.model_selection import train_test_split\n",
        "# Realizamos la partición de nuestro dataset en un conjunto de entrenamiento y otro de test (20%)\n",
        "X_train, X_test, y_train, y_test = train_test_split(preprocessed_dataset, label, test_size=0.2, random_state=42)"
      ],
      "execution_count": 14,
      "outputs": []
    },
    {
      "cell_type": "markdown",
      "metadata": {
        "id": "IaMrfBNStgwa"
      },
      "source": [
        "Entrenamos y mostramos el resultado"
      ]
    },
    {
      "cell_type": "code",
      "metadata": {
        "colab": {
          "base_uri": "https://localhost:8080/"
        },
        "id": "p8QnGj1otjET",
        "outputId": "e42ba116-695c-4061-8cf8-d9997ffc04ab"
      },
      "source": [
        "from sklearn.svm import SVC\n",
        "\n",
        "# Creamos el clasificador SVM lineal\n",
        "classifier =  SVC()\n",
        "\n",
        "# Realizamos el entrenamiento\n",
        "classifier.fit(X_train, y_train)\n",
        "\n",
        "# Obtenemos el accuracy de nuestro modelo para el conjunto de test\n",
        "print(classifier.score(X_test, y_test))"
      ],
      "execution_count": 15,
      "outputs": [
        {
          "output_type": "stream",
          "text": [
            "0.8333333333333334\n"
          ],
          "name": "stdout"
        }
      ]
    }
  ]
}